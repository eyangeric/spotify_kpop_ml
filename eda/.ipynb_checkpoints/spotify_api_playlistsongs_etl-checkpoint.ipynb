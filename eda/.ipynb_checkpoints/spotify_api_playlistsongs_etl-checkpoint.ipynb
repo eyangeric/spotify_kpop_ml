{
 "cells": [
  {
   "cell_type": "code",
   "execution_count": 17,
   "id": "a0a2a865",
   "metadata": {},
   "outputs": [],
   "source": [
    "import requests\n",
    "from datetime import datetime"
   ]
  },
  {
   "cell_type": "code",
   "execution_count": 18,
   "id": "5e4bc73f",
   "metadata": {},
   "outputs": [],
   "source": [
    "# Spotify API Documentation: https://developer.spotify.com/documentation/web-api/reference/#/\n",
    "CLIENT_ID = 'b786186d17994d0899e7b554333a561b'\n",
    "CLIENT_SECRET = '37cb414ac34844e0965fe8c107d3f270'"
   ]
  },
  {
   "cell_type": "code",
   "execution_count": 19,
   "id": "b2d2d6a7",
   "metadata": {},
   "outputs": [],
   "source": [
    "# get authentification token: https://stackoverflow.com/questions/55927009/how-to-access-spotifys-web-api-with-client-id-and-secret\n",
    "grant_type = 'client_credentials'\n",
    "body_params = {'grant_type' : grant_type}\n",
    "\n",
    "url='https://accounts.spotify.com/api/token'\n",
    "token_response = requests.post(url, data=body_params, auth = (CLIENT_ID, CLIENT_SECRET)) \n",
    "token = token_response.json()\n",
    "\n",
    "access_token = token['access_token']\n",
    "token_type = token['token_type']\n",
    "\n",
    "HEADERS = {'Authorization': f\"{token_type} {access_token}\"}"
   ]
  },
  {
   "cell_type": "code",
   "execution_count": 20,
   "id": "42f82244",
   "metadata": {},
   "outputs": [],
   "source": [
    "# spotify playlist IDs\n",
    "ey_feelz_playlist_id = '4gBVIsAsisBIZU69NkhxHu'\n",
    "dz_feelz_playlist_id = '1os2AhVhxLjVyuOhNjci49'\n",
    "ey_dz_feelz_playlist_id = '283AVfRHsY1LUwFDKEOdgE'\n",
    "\n",
    "playlist_dict = {ey_feelz_playlist_id: 'Eric Feelz', dz_feelz_playlist_id: 'Donald Feelz', ey_dz_feelz_playlist_id: 'Eric/Donald Feelz'}"
   ]
  },
  {
   "cell_type": "code",
   "execution_count": 21,
   "id": "e119861e",
   "metadata": {},
   "outputs": [],
   "source": [
    "def create_playlisttracks_url(PLAYLIST_ID):\n",
    "    return f\"https://api.spotify.com/v1/playlists/{PLAYLIST_ID}/tracks\""
   ]
  },
  {
   "cell_type": "code",
   "execution_count": 22,
   "id": "b7b6909a",
   "metadata": {},
   "outputs": [],
   "source": [
    "def get_playlisttrack_details(PLAYLIST_URL):\n",
    "    playlist_response = requests.get(PLAYLIST_URL, headers = HEADERS)\n",
    "    playlist_details = playlist_response.json()\n",
    "    playlist_track_details = playlist_details['items']\n",
    "    return playlist_track_details"
   ]
  },
  {
   "cell_type": "code",
   "execution_count": 23,
   "id": "d66245f1",
   "metadata": {},
   "outputs": [],
   "source": [
    "def get_tracks(PLAYLIST_TRACK_DETAILS):\n",
    "    tracks = []\n",
    "    for track in PLAYLIST_TRACK_DETAILS:\n",
    "        artist_name = track['track']['artists'][0]['name']  \n",
    "        album_name = track['track']['album']['name']\n",
    "        album_releasedate = track['track']['album']['release_date']\n",
    "        album_releaseyear = int(album_releasedate.split('-')[0])\n",
    "        album_totaltracks = track['track']['album']['total_tracks']\n",
    "        song_name = track['track']['name']\n",
    "        track_number = track['track']['track_number']\n",
    "        disc_number = track['track']['disc_number']\n",
    "        track_id = track['track']['id']\n",
    "        track_popularity = track['track']['popularity']\n",
    "\n",
    "        track_details = {'ID': track_id, 'Name': song_name, 'Popularity': track_popularity, \n",
    "                         'Artist': artist_name, 'Album': album_name, \n",
    "                         'AlbumReleaseDate': album_releasedate, 'AlbumReleaseYear': album_releaseyear, \n",
    "                         'AlbumTotalTracks': album_totaltracks, 'AlbumTrackNumber': track_number, \n",
    "                         'AlbumDiscNumber': disc_number}\n",
    "        tracks.append(track_details)\n",
    "    return tracks"
   ]
  },
  {
   "cell_type": "code",
   "execution_count": 24,
   "id": "ee9b1325",
   "metadata": {},
   "outputs": [],
   "source": [
    "def create_audiofeatures_url(TRACK_ID):\n",
    "    return f\"https://api.spotify.com/v1/audio-features/{TRACK_ID}\""
   ]
  },
  {
   "cell_type": "code",
   "execution_count": 25,
   "id": "eb1c2cbe",
   "metadata": {},
   "outputs": [],
   "source": [
    "def get_audiofeatures(TRACK_AUDIOFEATURES_URL):\n",
    "    audiofeatures_response = requests.get(TRACK_AUDIOFEATURES_URL, headers = HEADERS)\n",
    "    return audiofeatures_response.json()"
   ]
  },
  {
   "cell_type": "code",
   "execution_count": 29,
   "id": "e6d01828",
   "metadata": {},
   "outputs": [],
   "source": [
    "def add_audiofeatures(TRACKS):\n",
    "    audiofeature_keys = ['danceability', 'energy', 'key', 'loudness', 'mode', 'speechiness', 'acousticness',\n",
    "                         'instrumentalness', 'liveness', 'valence', 'tempo', 'duration_ms', 'time_signature']\n",
    "    tracks_copy = TRACKS.copy()\n",
    "    for track in tracks_copy:\n",
    "        audiofeatures_url = create_audiofeatures_url(track['ID'])\n",
    "        audiofeatures_details = get_audiofeatures(audiofeatures_url)\n",
    "        for audiofeature_key in audiofeature_keys:\n",
    "            track[audiofeature_key] = audiofeatures_details[audiofeature_key]\n",
    "    return tracks_copy"
   ]
  },
  {
   "cell_type": "code",
   "execution_count": 30,
   "id": "10d42dc9",
   "metadata": {},
   "outputs": [],
   "source": [
    "tracks_data_all = []\n",
    "for playlist_id, playlist_group in playlist_dict.items():\n",
    "    playlist_url = create_playlisttracks_url(ey_feelz_playlist_id)\n",
    "    playlist_track_details = get_playlisttrack_details(playlist_url)\n",
    "    tracks = get_tracks(playlist_track_details)\n",
    "    tracks_audiofeaturesadded = add_audiofeatures(tracks)\n",
    "    \n",
    "    for track in tracks_audiofeaturesadded:\n",
    "        track['Vibe_Group'] = playlist_group\n",
    "    \n",
    "    tracks_data_all.append(tracks_audiofeaturesadded)"
   ]
  },
  {
   "cell_type": "code",
   "execution_count": 33,
   "id": "d8c58ce7",
   "metadata": {},
   "outputs": [],
   "source": [
    "tracks_data_final = []\n",
    "for tracks_data in tracks_data_all:\n",
    "    for track in tracks_data:\n",
    "        tracks_data_final.append(track)"
   ]
  },
  {
   "cell_type": "code",
   "execution_count": null,
   "id": "c8662b93",
   "metadata": {},
   "outputs": [],
   "source": []
  },
  {
   "cell_type": "code",
   "execution_count": null,
   "id": "5886a421",
   "metadata": {},
   "outputs": [],
   "source": []
  },
  {
   "cell_type": "code",
   "execution_count": null,
   "id": "e2d07ecf",
   "metadata": {},
   "outputs": [],
   "source": []
  },
  {
   "cell_type": "code",
   "execution_count": null,
   "id": "71f3a06b",
   "metadata": {},
   "outputs": [],
   "source": []
  }
 ],
 "metadata": {
  "kernelspec": {
   "display_name": "Python 3 (ipykernel)",
   "language": "python",
   "name": "python3"
  },
  "language_info": {
   "codemirror_mode": {
    "name": "ipython",
    "version": 3
   },
   "file_extension": ".py",
   "mimetype": "text/x-python",
   "name": "python",
   "nbconvert_exporter": "python",
   "pygments_lexer": "ipython3",
   "version": "3.8.8"
  }
 },
 "nbformat": 4,
 "nbformat_minor": 5
}
